{
 "cells": [
  {
   "cell_type": "markdown",
   "id": "731724e2-5c82-4287-a551-65ed14ea7c6d",
   "metadata": {},
   "source": [
    "## Userguide"
   ]
  },
  {
   "cell_type": "markdown",
   "id": "18410411-979f-4e45-b8f8-7689012e1adc",
   "metadata": {},
   "source": [
    "https://github.com/brightway-lca/ecoinvent_interface\n",
    "\n",
    "\n",
    "https://docs.brightway.dev/en/latest/content/faq/ecoinvent.html\n",
    "\n",
    "\n",
    "you can just download eoicnvent https://ecoquery.ecoinvent.org/3.10/cutoff/files"
   ]
  },
  {
   "cell_type": "code",
   "execution_count": null,
   "id": "f7de6c15-ff48-4a3f-9a79-d6561aea164a",
   "metadata": {},
   "outputs": [],
   "source": [
    "pip install ecoinvent_interface"
   ]
  },
  {
   "cell_type": "code",
   "execution_count": 3,
   "id": "f4d7e066-eea9-4677-952e-a1760e26645f",
   "metadata": {},
   "outputs": [],
   "source": [
    "from ecoinvent_interface import Settings, permanent_setting, EcoinventRelease, ReleaseType"
   ]
  },
  {
   "cell_type": "code",
   "execution_count": 4,
   "id": "5c520de6-487e-4cdd-9639-669213bd073e",
   "metadata": {
    "scrolled": true
   },
   "outputs": [
    {
     "data": {
      "text/plain": [
       "['3.11',\n",
       " '3.10.1',\n",
       " '3.10',\n",
       " '3.9.1',\n",
       " '3.9',\n",
       " '3.8',\n",
       " '3.7.1',\n",
       " '3.7',\n",
       " '3.6',\n",
       " '3.5',\n",
       " '3.4',\n",
       " '3.3',\n",
       " '3.2',\n",
       " '3.1',\n",
       " '3.01',\n",
       " '2']"
      ]
     },
     "execution_count": 4,
     "metadata": {},
     "output_type": "execute_result"
    }
   ],
   "source": [
    "permanent_setting('username', \"SUSTAIN\")\n",
    "permanent_setting('password', \"Rosenkohl\")\n",
    "my_setting = Settings()\n",
    "ei = EcoinventRelease(my_setting)\n",
    "ei.list_versions()"
   ]
  },
  {
   "cell_type": "code",
   "execution_count": null,
   "id": "66e4d9e8-22a9-4b3a-8dd5-c47e84cc43dd",
   "metadata": {},
   "outputs": [],
   "source": [
    "ei.get_release(version='3.10', system_model='apos', release_type=ReleaseType.ecospold)"
   ]
  },
  {
   "cell_type": "code",
   "execution_count": 5,
   "id": "443eed63-8f06-4841-81d3-faee92b6f745",
   "metadata": {},
   "outputs": [
    {
     "name": "stderr",
     "output_type": "stream",
     "text": [
      "C:\\Users\\malviya\\.local\\share\\mamba\\envs\\bw25-test\\Lib\\site-packages\\ecoinvent_interface\\release.py:238: UserWarning: Can't automatically delete C:\\Users\\malviya\\AppData\\Local\\pylca\\EcoinventInterface\\cache\\ecoinvent 3.10_cutoff_ecoSpold02.7z\n",
      "        Please delete manually\n",
      "  warnings.warn(message)\n"
     ]
    },
    {
     "data": {
      "text/plain": [
       "WindowsPath('C:/Users/malviya/AppData/Local/pylca/EcoinventInterface/cache/ecoinvent 3.10_cutoff_ecoSpold02')"
      ]
     },
     "execution_count": 5,
     "metadata": {},
     "output_type": "execute_result"
    }
   ],
   "source": [
    "ei.get_release(version='3.10', system_model='cutoff', release_type=ReleaseType.ecospold)"
   ]
  },
  {
   "cell_type": "code",
   "execution_count": 7,
   "id": "6f7dcd3c-deff-415a-b81d-3aade06509b5",
   "metadata": {},
   "outputs": [
    {
     "data": {
      "text/plain": [
       "['cutoff', 'consequential', 'apos']"
      ]
     },
     "execution_count": 7,
     "metadata": {},
     "output_type": "execute_result"
    }
   ],
   "source": [
    "ei.list_system_models('3.10')"
   ]
  },
  {
   "cell_type": "code",
   "execution_count": 8,
   "id": "700ad1f6-35aa-45b8-8000-0c09cdf2c776",
   "metadata": {},
   "outputs": [
    {
     "data": {
      "text/plain": [
       "['Allocation cut-off by classification',\n",
       " 'Substitution, consequential, long-term',\n",
       " 'Allocation at the Point of Substitution']"
      ]
     },
     "execution_count": 8,
     "metadata": {},
     "output_type": "execute_result"
    }
   ],
   "source": [
    "ei.list_system_models('3.10', translate=False)"
   ]
  },
  {
   "cell_type": "code",
   "execution_count": null,
   "id": "29ccdc6c-92e2-456c-8359-2a41f0f33ffb",
   "metadata": {},
   "outputs": [],
   "source": []
  }
 ],
 "metadata": {
  "kernelspec": {
   "display_name": "Python 3 (ipykernel)",
   "language": "python",
   "name": "python3"
  },
  "language_info": {
   "codemirror_mode": {
    "name": "ipython",
    "version": 3
   },
   "file_extension": ".py",
   "mimetype": "text/x-python",
   "name": "python",
   "nbconvert_exporter": "python",
   "pygments_lexer": "ipython3",
   "version": "3.12.11"
  }
 },
 "nbformat": 4,
 "nbformat_minor": 5
}
